{
 "cells": [
  {
   "cell_type": "code",
   "execution_count": 17,
   "id": "21f4c447",
   "metadata": {},
   "outputs": [],
   "source": [
    "from NeuralNetwork import NNetwork\n",
    "from sklearn.datasets import fetch_openml\n",
    "from sklearn.metrics import mean_squared_error\n",
    "import numpy as np\n",
    "import matplotlib.pyplot as plt\n",
    "from tqdm import tqdm\n",
    "import os\n",
    "import json\n",
    "import seaborn as sns\n",
    "from sklearn.metrics import confusion_matrix"
   ]
  },
  {
   "cell_type": "code",
   "execution_count": 7,
   "id": "845629bf",
   "metadata": {},
   "outputs": [],
   "source": [
    "def train_model(model, X_train, y_train, X_val, y_val, batch_size=32, learning_rate=0.01, epochs=10, verbose=1, reg_type=\"L1\"):\n",
    "    \"\"\"\n",
    "    Melatih model dengan parameter yang diberikan.\n",
    "\n",
    "    :param model: Objek dari NNetwork.\n",
    "    :param X_train: Data training (numpy array, shape: (num_samples, num_features))\n",
    "    :param y_train: Label training (numpy array, shape: (num_samples, num_classes))\n",
    "    :param X_val: Data validasi (numpy array, shape: (num_samples, num_features))\n",
    "    :param y_val: Label validasi (numpy array, shape: (num_samples, num_classes))\n",
    "    :param batch_size: Jumlah sampel per batch saat training.\n",
    "    :param learning_rate: Learning rate untuk gradient descent.\n",
    "    :param epochs: Jumlah epoch untuk training.\n",
    "    :param verbose: 0 = tanpa output, 1 = progress bar + training & validation loss.\n",
    "    :return: Dictionary berisi histori training loss & validation loss tiap epoch.\n",
    "    \"\"\"\n",
    "    history = {\"train_loss\": [], \"val_loss\": []}\n",
    "    num_samples = X_train.shape[0]\n",
    "\n",
    "    for epoch in range(epochs):\n",
    "        epoch_loss = 0\n",
    "        num_batches = num_samples // batch_size\n",
    "\n",
    "        batch_iterator = tqdm(range(num_batches), desc=f\"Epoch {epoch+1}/{epochs}\", disable=(verbose == 0))\n",
    "\n",
    "        for batch_idx in batch_iterator:\n",
    "            start_idx = batch_idx * batch_size\n",
    "            end_idx = start_idx + batch_size\n",
    "            X_batch, y_batch = X_train[start_idx:end_idx], y_train[start_idx:end_idx]\n",
    "\n",
    "            loss = model.backward_propagation(X_batch, y_batch, learning_rate, reg_type)\n",
    "            epoch_loss += loss\n",
    "\n",
    "            if verbose == 1:\n",
    "                batch_iterator.set_postfix(train_loss=loss)\n",
    "\n",
    "        train_loss = epoch_loss / num_batches\n",
    "        history[\"train_loss\"].append(train_loss)\n",
    "\n",
    "        val_preds = model.forward_propagation(X_val)\n",
    "        val_loss = np.mean((val_preds - y_val) ** 2)\n",
    "        history[\"val_loss\"].append(val_loss)\n",
    "\n",
    "        if verbose == 1:\n",
    "            print(f\"Epoch {epoch+1}/{epochs} - Train Loss: {train_loss:.5f}, Val Loss: {val_loss:.5f}\")\n",
    "\n",
    "    return history"
   ]
  },
  {
   "cell_type": "code",
   "execution_count": 3,
   "id": "412916ff",
   "metadata": {},
   "outputs": [],
   "source": [
    "X, y = fetch_openml(\"mnist_784\", version=1, return_X_y=True, as_frame=False)\n",
    "X= X / 255\n",
    "y = np.array(y).astype(int)  # Convert to integers\n",
    "num_classes = 10  # since labels are from 0 to 9\n",
    "y = np.eye(num_classes)[y]\n",
    "\n",
    "# X = X[:1000]\n",
    "# y = y[:1000]\n",
    "\n",
    "Xtrain = X[:5600]\n",
    "ytrain = y[:5600]\n",
    "Xval = X[5600:]\n",
    "yval = y[5600:]"
   ]
  },
  {
   "cell_type": "code",
   "execution_count": null,
   "id": "f78d1cc4",
   "metadata": {},
   "outputs": [],
   "source": [
    "nn1 = NNetwork(4 , [784, 16, 16, 10], verbose=True)\n",
    "nn1.initialize_weights(method=\"normal\", mean=0, variance=0.1, seed=42, verbose=False)\n",
    "nn2 = NNetwork(4 , [784, 16, 16, 10], verbose=True)\n",
    "nn2.initialize_weights(method=\"normal\", mean=0, variance=0.1, seed=42, verbose=False)\n",
    "nn3 = NNetwork(4 , [784, 16, 16, 10], verbose=True)\n",
    "nn3.initialize_weights(method=\"normal\", mean=0, variance=0.1, seed=42, verbose=False)"
   ]
  },
  {
   "cell_type": "code",
   "execution_count": null,
   "id": "87fa4fd2",
   "metadata": {},
   "outputs": [],
   "source": [
    "history1 = train_model(nn1, Xtrain, ytrain, Xval, yval, batch_size=20, learning_rate=0.01, epochs=10, verbose=1, reg_type=\"None\")\n",
    "history2 = train_model(nn2, Xtrain, ytrain, Xval, yval, batch_size=20, learning_rate=0.01, epochs=10, verbose=1, reg_type=\"L1\")\n",
    "history3 = train_model(nn3, Xtrain, ytrain, Xval, yval, batch_size=20, learning_rate=0.01, epochs=10, verbose=1, reg_type=\"L2\")"
   ]
  },
  {
   "cell_type": "code",
   "execution_count": 9,
   "id": "00ca4164",
   "metadata": {},
   "outputs": [],
   "source": [
    "def plot_training_history(history, base_dir=\"hasil\"):\n",
    "    \"\"\"Plot training history and save to a dynamically created folder.\"\"\"\n",
    "    # Cari folder dengan angka berikutnya yang belum ada\n",
    "    i = 1\n",
    "    while os.path.exists(f\"{base_dir}/{i}\"):\n",
    "        i += 1\n",
    "\n",
    "    filename = f\"training_history_{i}.png\"\n",
    "    folder_path = f\"{base_dir}/{i}\"\n",
    "    os.makedirs(folder_path, exist_ok=True)\n",
    "\n",
    "    # Simpan plot ke file di folder tersebut\n",
    "    file_path = os.path.join(folder_path, filename)\n",
    "    plt.figure(figsize=(10, 5))\n",
    "    plt.plot(history[\"train_loss\"], label=\"Training Loss\", marker=\"o\")\n",
    "    plt.plot(history[\"val_loss\"], label=\"Validation Loss\", marker=\"s\")\n",
    "    plt.xlabel('Epochs')\n",
    "    plt.ylabel('Loss')\n",
    "    plt.title('Training and Validation Loss')\n",
    "    plt.legend()\n",
    "    plt.grid(True)\n",
    "    plt.savefig(file_path)  # Simpan plot ke file\n",
    "    plt.close()  # Tutup plot untuk menghindari masalah GUI\n",
    "\n",
    "    # Simpan data verbose ke file teks\n",
    "    verbosename = f\"verbose_{i}.txt\"\n",
    "    verbose_file_path = os.path.join(folder_path, verbosename)\n",
    "    with open(verbose_file_path, \"w\") as f:\n",
    "        f.write(json.dumps(history, indent=4))\n",
    "\n",
    "    print(f\"Plot saved to: {file_path}\")\n",
    "    print(f\"Verbose data saved to: {verbose_file_path}\")\n",
    "    return folder_path\n"
   ]
  },
  {
   "cell_type": "code",
   "execution_count": null,
   "id": "fffa1246",
   "metadata": {},
   "outputs": [],
   "source": [
    "plot_training_history(history1)\n",
    "plot_training_history(history2)\n",
    "plot_training_history(history3)"
   ]
  },
  {
   "cell_type": "code",
   "execution_count": null,
   "id": "77ef67fb",
   "metadata": {},
   "outputs": [
    {
     "ename": "",
     "evalue": "",
     "output_type": "error",
     "traceback": [
      "\u001b[1;31mRunning cells with 'Python 3.10.11' requires the ipykernel package.\n",
      "\u001b[1;31m<a href='command:jupyter.createPythonEnvAndSelectController'>Create a Python Environment</a> with the required packages."
     ]
    }
   ],
   "source": [
    "from sklearn.neural_network import MLPClassifier\n",
    "from sklearn.metrics import log_loss\n",
    "from sklearn.model_selection import train_test_split\n",
    "import matplotlib.pyplot as plt\n",
    "import numpy as np\n",
    "import os\n",
    "import json\n",
    "\n",
    "# Normalisasi data\n",
    "from sklearn.datasets import fetch_openml\n",
    "X, y = fetch_openml(\"mnist_784\", version=1, return_X_y=True, as_frame=False)\n",
    "X = X / 255.0\n",
    "y = np.array(y).astype(int)\n",
    "\n",
    "# One-hot encoding untuk y\n",
    "num_classes = 10\n",
    "y_onehot = np.eye(num_classes)[y]\n",
    "\n",
    "# Split manual agar sesuai\n",
    "Xtrain = X[:5600]\n",
    "ytrain = y[:5600]\n",
    "Xval = X[5600:]\n",
    "yval = y[5600:]\n",
    "yval_onehot = y_onehot[5600:]\n",
    "\n",
    "def train_sklearn_model(Xtrain, ytrain, Xval, yval, alpha=0.0001, reg_type=\"l2\", epochs=10, verbose=1):\n",
    "    history = {\"train_loss\": [], \"val_loss\": []}\n",
    "\n",
    "    model = MLPClassifier(hidden_layer_sizes=(16, 16),\n",
    "                          activation='relu',\n",
    "                          solver='sgd',\n",
    "                          learning_rate_init=0.01,\n",
    "                          max_iter=1,\n",
    "                          warm_start=True,\n",
    "                          batch_size=20,\n",
    "                          alpha=alpha,\n",
    "                          verbose=0)\n",
    "\n",
    "    for epoch in range(epochs):\n",
    "        model.fit(Xtrain, ytrain)\n",
    "\n",
    "        # Predict untuk log loss (menggunakan probabilitas)\n",
    "        train_proba = model.predict_proba(Xtrain)\n",
    "        val_proba = model.predict_proba(Xval)\n",
    "\n",
    "        train_loss = log_loss(ytrain, train_proba)\n",
    "        val_loss = log_loss(yval, val_proba)\n",
    "\n",
    "        history[\"train_loss\"].append(train_loss)\n",
    "        history[\"val_loss\"].append(val_loss)\n",
    "\n",
    "        if verbose:\n",
    "            print(f\"Epoch {epoch+1}/{epochs} - Train Loss: {train_loss:.5f}, Val Loss: {val_loss:.5f}\")\n",
    "\n",
    "    return model, history\n"
   ]
  },
  {
   "cell_type": "code",
   "execution_count": null,
   "id": "2bb5b0e6",
   "metadata": {},
   "outputs": [],
   "source": [
    "model_none, history_none = train_sklearn_model(Xtrain, ytrain, Xval, yval, alpha=0.0, reg_type=\"none\")\n",
    "model_l1, history_l1 = train_sklearn_model(Xtrain, ytrain, Xval, yval, alpha=0.001, reg_type=\"l1\")\n",
    "model_l2, history_l2 = train_sklearn_model(Xtrain, ytrain, Xval, yval, alpha=0.001, reg_type=\"l2\")"
   ]
  },
  {
   "cell_type": "code",
   "execution_count": null,
   "id": "130cfa2f",
   "metadata": {},
   "outputs": [],
   "source": [
    "def plot_training_history_sklearn(history, base_dir=\"hasil_sklearn\"):\n",
    "    i = 1\n",
    "    while os.path.exists(f\"{base_dir}/{i}\"):\n",
    "        i += 1\n",
    "\n",
    "    filename = f\"training_history_{i}.png\"\n",
    "    folder_path = f\"{base_dir}/{i}\"\n",
    "    os.makedirs(folder_path, exist_ok=True)\n",
    "\n",
    "    file_path = os.path.join(folder_path, filename)\n",
    "    plt.figure(figsize=(10, 5))\n",
    "    plt.plot(history[\"train_loss\"], label=\"Training Loss\", marker=\"o\")\n",
    "    plt.plot(history[\"val_loss\"], label=\"Validation Loss\", marker=\"s\")\n",
    "    plt.xlabel('Epochs')\n",
    "    plt.ylabel('Log Loss')\n",
    "    plt.title('Training and Validation Loss (sklearn MLPClassifier)')\n",
    "    plt.legend()\n",
    "    plt.grid(True)\n",
    "    plt.savefig(file_path)\n",
    "    plt.close()\n",
    "\n",
    "    verbosename = f\"verbose_{i}.txt\"\n",
    "    verbose_file_path = os.path.join(folder_path, verbosename)\n",
    "    with open(verbose_file_path, \"w\") as f:\n",
    "        f.write(json.dumps(history, indent=4))\n",
    "\n",
    "    print(f\"Plot saved to: {file_path}\")\n",
    "    print(f\"Verbose data saved to: {verbose_file_path}\")\n",
    "    return folder_path\n",
    "\n",
    "plot_training_history_sklearn(history_none)\n",
    "plot_training_history_sklearn(history_l1)\n",
    "plot_training_history_sklearn(history_l2)"
   ]
  },
  {
   "cell_type": "markdown",
   "id": "7b815de1",
   "metadata": {},
   "source": [
    "### SKLEARN"
   ]
  },
  {
   "cell_type": "code",
   "execution_count": 30,
   "id": "2e7b58e5",
   "metadata": {},
   "outputs": [],
   "source": [
    "from sklearn.neural_network import MLPClassifier\n",
    "from sklearn.model_selection import train_test_split\n",
    "from sklearn.preprocessing import StandardScaler\n",
    "from sklearn.datasets import load_digits  # or your MNIST data\n",
    "from sklearn.metrics import accuracy_score\n",
    "import numpy as np\n",
    "\n",
    "# Model\n",
    "mlp = MLPClassifier(\n",
    "    hidden_layer_sizes=(16,16),\n",
    "    activation='relu',\n",
    "    learning_rate_init=0.01,\n",
    "    max_iter=20, #epocks\n",
    "    warm_start=True, \n",
    "    random_state=42,\n",
    "    alpha=0.0,                  # no regularization\n",
    "    verbose=True,\n",
    "    early_stopping= False\n",
    ")\n",
    "\n",
    "# # Fit\n",
    "# mlp.fit(Xtrain, ytrain)\n",
    "\n",
    "# # Predict\n",
    "# y_pred = mlp.predict(Xval)\n",
    "# acc = accuracy_score(yval, y_pred)\n",
    "# print(\"Validation Accuracy:\", acc)\n"
   ]
  },
  {
   "cell_type": "code",
   "execution_count": 31,
   "id": "d1f1a7ac",
   "metadata": {},
   "outputs": [
    {
     "name": "stdout",
     "output_type": "stream",
     "text": [
      "Iteration 1, loss = 6.97615770\n",
      "Iteration 2, loss = 6.56855804\n",
      "Iteration 3, loss = 6.14347362\n",
      "Iteration 4, loss = 5.66707006\n",
      "Iteration 5, loss = 5.16393688\n",
      "Iteration 6, loss = 4.62121384\n",
      "Iteration 7, loss = 4.07230857\n",
      "Iteration 8, loss = 3.55364201\n",
      "Iteration 9, loss = 3.10304466\n",
      "Iteration 10, loss = 2.77315710\n",
      "Iteration 11, loss = 2.56141666\n",
      "Iteration 12, loss = 2.39401769\n",
      "Iteration 13, loss = 2.24418940\n",
      "Iteration 14, loss = 2.08036697\n",
      "Iteration 15, loss = 1.89012946\n",
      "Iteration 16, loss = 1.69112995\n",
      "Iteration 17, loss = 1.50220700\n",
      "Iteration 18, loss = 1.35022334\n",
      "Iteration 19, loss = 1.25313686\n",
      "Iteration 20, loss = 1.17182376\n",
      "Epoch 1: Train Loss = 0.0964, Val Loss = 0.0974\n",
      "Iteration 1, loss = 3.00409818\n",
      "Iteration 2, loss = 2.30859218\n",
      "Iteration 3, loss = 1.97870414\n",
      "Iteration 4, loss = 1.70085377\n",
      "Iteration 5, loss = 1.50362283\n",
      "Iteration 6, loss = 1.34597879\n",
      "Iteration 7, loss = 1.21578963\n",
      "Iteration 8, loss = 1.09858902\n",
      "Iteration 9, loss = 0.99199342\n",
      "Iteration 10, loss = 0.89495309\n",
      "Iteration 11, loss = 0.80290809\n",
      "Iteration 12, loss = 0.71358303\n",
      "Iteration 13, loss = 0.63286653\n",
      "Iteration 14, loss = 0.55979730\n",
      "Iteration 15, loss = 0.49325150\n",
      "Iteration 16, loss = 0.42768117\n",
      "Iteration 17, loss = 0.36542937\n",
      "Iteration 18, loss = 0.30880901\n",
      "Iteration 19, loss = 0.25970597\n",
      "Iteration 20, loss = 0.22051190\n"
     ]
    },
    {
     "name": "stderr",
     "output_type": "stream",
     "text": [
      "C:\\Users\\Muneki\\AppData\\Roaming\\Python\\Python313\\site-packages\\sklearn\\neural_network\\_multilayer_perceptron.py:691: ConvergenceWarning: Stochastic Optimizer: Maximum iterations (20) reached and the optimization hasn't converged yet.\n",
      "  warnings.warn(\n",
      "C:\\Users\\Muneki\\AppData\\Roaming\\Python\\Python313\\site-packages\\sklearn\\neural_network\\_multilayer_perceptron.py:691: ConvergenceWarning: Stochastic Optimizer: Maximum iterations (20) reached and the optimization hasn't converged yet.\n",
      "  warnings.warn(\n"
     ]
    },
    {
     "name": "stdout",
     "output_type": "stream",
     "text": [
      "Epoch 2: Train Loss = 0.0816, Val Loss = 0.0838\n",
      "Iteration 1, loss = 3.25773818\n",
      "Iteration 2, loss = 2.16924886\n",
      "Iteration 3, loss = 1.69157210\n",
      "Iteration 4, loss = 1.49516806\n",
      "Iteration 5, loss = 1.27273446\n",
      "Iteration 6, loss = 1.05555263\n",
      "Iteration 7, loss = 0.89939747\n",
      "Iteration 8, loss = 0.78576382\n",
      "Iteration 9, loss = 0.68669501\n",
      "Iteration 10, loss = 0.59759071\n",
      "Iteration 11, loss = 0.51366138\n",
      "Training loss did not improve more than tol=0.000100 for 10 consecutive epochs. Stopping.\n",
      "Epoch 3: Train Loss = 0.0859, Val Loss = 0.0874\n",
      "Iteration 1, loss = 2.25602274\n",
      "Training loss did not improve more than tol=0.000100 for 10 consecutive epochs. Stopping.\n",
      "Epoch 4: Train Loss = 0.0807, Val Loss = 0.0841\n",
      "Iteration 1, loss = 1.51615998\n",
      "Training loss did not improve more than tol=0.000100 for 10 consecutive epochs. Stopping.\n",
      "Epoch 5: Train Loss = 0.0785, Val Loss = 0.0818\n",
      "Iteration 1, loss = 2.36134469\n",
      "Training loss did not improve more than tol=0.000100 for 10 consecutive epochs. Stopping.\n",
      "Epoch 6: Train Loss = 0.0757, Val Loss = 0.0791\n",
      "Iteration 1, loss = 3.31961706\n",
      "Training loss did not improve more than tol=0.000100 for 10 consecutive epochs. Stopping.\n",
      "Epoch 7: Train Loss = 0.0734, Val Loss = 0.0760\n",
      "Iteration 1, loss = 1.68320611\n",
      "Training loss did not improve more than tol=0.000100 for 10 consecutive epochs. Stopping.\n",
      "Epoch 8: Train Loss = 0.0752, Val Loss = 0.0799\n",
      "Iteration 1, loss = 2.08181894\n",
      "Training loss did not improve more than tol=0.000100 for 10 consecutive epochs. Stopping.\n",
      "Epoch 9: Train Loss = 0.0725, Val Loss = 0.0752\n",
      "Iteration 1, loss = 2.33176470\n",
      "Training loss did not improve more than tol=0.000100 for 10 consecutive epochs. Stopping.\n",
      "Epoch 10: Train Loss = 0.0721, Val Loss = 0.0748\n"
     ]
    }
   ],
   "source": [
    "train_losses = []\n",
    "val_loseses = []\n",
    "\n",
    "for epoch in range(10):\n",
    "    mlp.fit(Xtrain[20*epoch:20*(epoch+1)], ytrain[20*epoch:20*(epoch+1)])\n",
    "\n",
    "    y_train_pred = mlp.predict(Xtrain)\n",
    "    y_val_pred = mlp.predict(Xval)\n",
    "\n",
    "    train_loss = mean_squared_error(ytrain, y_train_pred)\n",
    "    val_loss = mean_squared_error(yval, y_val_pred)\n",
    "\n",
    "    train_losses.append(train_loss)\n",
    "    val_loseses.append(val_loss)\n",
    "\n",
    "    print(f\"Epoch {epoch+1}: Train Loss = {train_loss:.4f}, Val Loss = {val_loss:.4f}\")"
   ]
  },
  {
   "cell_type": "code",
   "execution_count": 33,
   "id": "7d5e8a0b",
   "metadata": {},
   "outputs": [
    {
     "data": {
      "text/plain": [
       "[0.09738198757763974,\n",
       " 0.08380900621118012,\n",
       " 0.0873866459627329,\n",
       " 0.08408229813664596,\n",
       " 0.08176242236024844,\n",
       " 0.07911645962732919,\n",
       " 0.076027950310559,\n",
       " 0.07988509316770186,\n",
       " 0.07520807453416149,\n",
       " 0.07483385093167702]"
      ]
     },
     "execution_count": 33,
     "metadata": {},
     "output_type": "execute_result"
    }
   ],
   "source": [
    "val_loseses"
   ]
  },
  {
   "cell_type": "code",
   "execution_count": 10,
   "id": "8f50119a",
   "metadata": {},
   "outputs": [
    {
     "name": "stdout",
     "output_type": "stream",
     "text": [
      "inisiasi layer 0\n",
      "inisiasi node selesai\n",
      "inisiasi layer 1\n",
      "inisiasi node selesai\n",
      "inisiasi layer 2\n",
      "inisiasi node selesai\n",
      "inisiasi layer 3\n",
      "inisiasi node selesai\n",
      "inisiasi layer selesai\n",
      "✅ Jaringan saraf dengan 4 layer berhasil dibuat!\n",
      "🔹 Layer 0 (Input) - 784 neurons\n",
      "🔹 Layer 1 - 16 neurons, Aktivasi: sigmoid\n",
      "🔹 Layer 2 - 16 neurons, Aktivasi: sigmoid\n",
      "🔹 Layer 3 - 10 neurons, Aktivasi: softmax\n"
     ]
    },
    {
     "name": "stderr",
     "output_type": "stream",
     "text": [
      "Epoch 1/10: 100%|██████████| 280/280 [00:00<00:00, 565.63it/s, train_loss=0.0904]\n"
     ]
    },
    {
     "name": "stdout",
     "output_type": "stream",
     "text": [
      "Epoch 1/10 - Train Loss: 0.09064, Val Loss: 0.08970\n"
     ]
    },
    {
     "name": "stderr",
     "output_type": "stream",
     "text": [
      "Epoch 2/10: 100%|██████████| 280/280 [00:00<00:00, 512.97it/s, train_loss=0.0893]\n"
     ]
    },
    {
     "name": "stdout",
     "output_type": "stream",
     "text": [
      "Epoch 2/10 - Train Loss: 0.08933, Val Loss: 0.08911\n"
     ]
    },
    {
     "name": "stderr",
     "output_type": "stream",
     "text": [
      "Epoch 3/10: 100%|██████████| 280/280 [00:00<00:00, 513.60it/s, train_loss=0.0887]\n"
     ]
    },
    {
     "name": "stdout",
     "output_type": "stream",
     "text": [
      "Epoch 3/10 - Train Loss: 0.08879, Val Loss: 0.08858\n"
     ]
    },
    {
     "name": "stderr",
     "output_type": "stream",
     "text": [
      "Epoch 4/10: 100%|██████████| 280/280 [00:00<00:00, 529.76it/s, train_loss=0.0881]\n"
     ]
    },
    {
     "name": "stdout",
     "output_type": "stream",
     "text": [
      "Epoch 4/10 - Train Loss: 0.08822, Val Loss: 0.08798\n"
     ]
    },
    {
     "name": "stderr",
     "output_type": "stream",
     "text": [
      "Epoch 5/10: 100%|██████████| 280/280 [00:00<00:00, 599.57it/s, train_loss=0.0874]\n"
     ]
    },
    {
     "name": "stdout",
     "output_type": "stream",
     "text": [
      "Epoch 5/10 - Train Loss: 0.08758, Val Loss: 0.08729\n"
     ]
    },
    {
     "name": "stderr",
     "output_type": "stream",
     "text": [
      "Epoch 6/10: 100%|██████████| 280/280 [00:00<00:00, 589.24it/s, train_loss=0.0866]\n"
     ]
    },
    {
     "name": "stdout",
     "output_type": "stream",
     "text": [
      "Epoch 6/10 - Train Loss: 0.08682, Val Loss: 0.08649\n"
     ]
    },
    {
     "name": "stderr",
     "output_type": "stream",
     "text": [
      "Epoch 7/10: 100%|██████████| 280/280 [00:00<00:00, 603.89it/s, train_loss=0.0856]\n"
     ]
    },
    {
     "name": "stdout",
     "output_type": "stream",
     "text": [
      "Epoch 7/10 - Train Loss: 0.08594, Val Loss: 0.08554\n"
     ]
    },
    {
     "name": "stderr",
     "output_type": "stream",
     "text": [
      "Epoch 8/10: 100%|██████████| 280/280 [00:00<00:00, 560.78it/s, train_loss=0.0846]\n"
     ]
    },
    {
     "name": "stdout",
     "output_type": "stream",
     "text": [
      "Epoch 8/10 - Train Loss: 0.08491, Val Loss: 0.08443\n"
     ]
    },
    {
     "name": "stderr",
     "output_type": "stream",
     "text": [
      "Epoch 9/10: 100%|██████████| 280/280 [00:00<00:00, 544.23it/s, train_loss=0.0835]\n"
     ]
    },
    {
     "name": "stdout",
     "output_type": "stream",
     "text": [
      "Epoch 9/10 - Train Loss: 0.08371, Val Loss: 0.08316\n"
     ]
    },
    {
     "name": "stderr",
     "output_type": "stream",
     "text": [
      "Epoch 10/10: 100%|██████████| 280/280 [00:00<00:00, 576.97it/s, train_loss=0.0822]\n"
     ]
    },
    {
     "name": "stdout",
     "output_type": "stream",
     "text": [
      "Epoch 10/10 - Train Loss: 0.08236, Val Loss: 0.08174\n"
     ]
    }
   ],
   "source": [
    "nn1 = NNetwork(4 , [784, 16, 16, 10], verbose=True)\n",
    "nn1.initialize_weights(method=\"normal\", mean=0, variance=0.1, seed=42, verbose=False)\n",
    "history1 = train_model(nn1, Xtrain, ytrain, Xval, yval, batch_size=20, learning_rate=0.01, epochs=10, verbose=1, reg_type=\"None\")"
   ]
  },
  {
   "cell_type": "code",
   "execution_count": 12,
   "id": "c7b683cc",
   "metadata": {},
   "outputs": [
    {
     "data": {
      "text/plain": [
       "[np.float64(0.09064196115694581),\n",
       " np.float64(0.08933369262016341),\n",
       " np.float64(0.08878941427413077),\n",
       " np.float64(0.08822269194872723),\n",
       " np.float64(0.0875756139219759),\n",
       " np.float64(0.08682237183469647),\n",
       " np.float64(0.0859390917458246),\n",
       " np.float64(0.08490602955462401),\n",
       " np.float64(0.08371282171465555),\n",
       " np.float64(0.08236398985816058)]"
      ]
     },
     "execution_count": 12,
     "metadata": {},
     "output_type": "execute_result"
    }
   ],
   "source": [
    "history1[\"train_loss\"]"
   ]
  },
  {
   "cell_type": "code",
   "execution_count": 35,
   "id": "f6f741a5",
   "metadata": {},
   "outputs": [
    {
     "data": {
      "image/png": "[encoded data removed]",
      "text/plain": [
       "<Figure size 1000x600 with 1 Axes>"
      ]
     },
     "metadata": {},
     "output_type": "display_data"
    }
   ],
   "source": [
    "import matplotlib.pyplot as plt\n",
    "\n",
    "# Model A training loss (e.g. from sklearn MLPClassifier)\n",
    "model_a_loss = [0.09738198757763974,\n",
    " 0.08380900621118012,\n",
    " 0.0873866459627329,\n",
    " 0.08408229813664596,\n",
    " 0.08176242236024844,\n",
    " 0.07911645962732919,\n",
    " 0.076027950310559,\n",
    " 0.07988509316770186,\n",
    " 0.07520807453416149,\n",
    " 0.07483385093167702]\n",
    "\n",
    "# Model B training loss (e.g. custom/other framework)\n",
    "model_b_loss = [\n",
    "    0.09064196115694581,\n",
    "    0.08933369262016341,\n",
    "    0.08878941427413077,\n",
    "    0.08822269194872723,\n",
    "    0.0875756139219759,\n",
    "    0.08682237183469647,\n",
    "    0.0859390917458246,\n",
    "    0.08490602955462401,\n",
    "    0.08371282171465555,\n",
    "    0.08236398985816058\n",
    "]\n",
    "\n",
    "# Epochs\n",
    "epochs = list(range(1, len(model_a_loss) + 1))\n",
    "\n",
    "# Plot\n",
    "plt.figure(figsize=(10, 6))\n",
    "plt.plot(epochs, model_a_loss, label='SKLearn', marker='o')\n",
    "plt.plot(epochs, model_b_loss, label='AmbatuK.A.M. Learn', marker='s')\n",
    "plt.xlabel('Epoch')\n",
    "plt.ylabel('Loss')\n",
    "plt.title('Training Loss Comparison (Model A vs Model B)')\n",
    "plt.legend()\n",
    "plt.grid(True)\n",
    "plt.savefig('training_loss_comparison.png')\n",
    "plt.show()\n"
   ]
  }
 ],
 "metadata": {
  "kernelspec": {
   "display_name": "Python 3",
   "language": "python",
   "name": "python3"
  },
  "language_info": {
   "codemirror_mode": {
    "name": "ipython",
    "version": 3
   },
   "file_extension": ".py",
   "mimetype": "text/x-python",
   "name": "python",
   "nbconvert_exporter": "python",
   "pygments_lexer": "ipython3",
   "version": "3.13.1"
  }
 },
 "nbformat": 4,
 "nbformat_minor": 5
}
